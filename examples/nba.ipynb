{
 "cells": [
  {
   "cell_type": "markdown",
   "metadata": {},
   "source": [
    "# Applying `elo-grad` to NBA data"
   ]
  },
  {
   "cell_type": "markdown",
   "metadata": {},
   "source": [
    "This notebook provides example usage of applying the `elo-grad` package to NBA data. This is based on this example notebook in the [kickscore](https://github.com/lucasmaystre/kickscore) package.\n",
    "\n",
    "To install all the dependencies required for this notebook (and any other example notebooks), run `pip install elo-grad[examples]`."
   ]
  },
  {
   "cell_type": "code",
   "execution_count": 1,
   "metadata": {},
   "outputs": [],
   "source": [
    "import datetime\n",
    "\n",
    "import matplotlib.pyplot as plt\n",
    "import pandas as pd\n",
    "from sklearn.calibration import calibration_curve\n",
    "from sklearn.metrics import log_loss\n",
    "from sklearn.model_selection import GridSearchCV, TimeSeriesSplit\n",
    "\n",
    "from elo_grad import EloEstimator"
   ]
  },
  {
   "cell_type": "markdown",
   "metadata": {},
   "source": [
    "## Getting the data"
   ]
  },
  {
   "cell_type": "markdown",
   "metadata": {},
   "source": [
    "**NOTE:** the below will not run on Windows machines. Manually download the CSV if that is the case."
   ]
  },
  {
   "cell_type": "code",
   "execution_count": 2,
   "metadata": {},
   "outputs": [],
   "source": [
    "! ! test -f ./data/nba_elo.csv && curl https://projects.fivethirtyeight.com/nba-model/nba_elo.csv -o ./data/nba_elo.csv"
   ]
  },
  {
   "cell_type": "markdown",
   "metadata": {},
   "source": [
    "## Processing the data"
   ]
  },
  {
   "cell_type": "code",
   "execution_count": 3,
   "metadata": {},
   "outputs": [
    {
     "name": "stdout",
     "output_type": "stream",
     "text": [
      "We have 73,358 matches.\n"
     ]
    },
    {
     "data": {
      "text/html": [
       "<div>\n",
       "<style scoped>\n",
       "    .dataframe tbody tr th:only-of-type {\n",
       "        vertical-align: middle;\n",
       "    }\n",
       "\n",
       "    .dataframe tbody tr th {\n",
       "        vertical-align: top;\n",
       "    }\n",
       "\n",
       "    .dataframe thead th {\n",
       "        text-align: right;\n",
       "    }\n",
       "</style>\n",
       "<table border=\"1\" class=\"dataframe\">\n",
       "  <thead>\n",
       "    <tr style=\"text-align: right;\">\n",
       "      <th></th>\n",
       "      <th>team1</th>\n",
       "      <th>team2</th>\n",
       "      <th>score1</th>\n",
       "      <th>score2</th>\n",
       "      <th>t</th>\n",
       "    </tr>\n",
       "    <tr>\n",
       "      <th>date</th>\n",
       "      <th></th>\n",
       "      <th></th>\n",
       "      <th></th>\n",
       "      <th></th>\n",
       "      <th></th>\n",
       "    </tr>\n",
       "  </thead>\n",
       "  <tbody>\n",
       "    <tr>\n",
       "      <th>1946-11-01</th>\n",
       "      <td>TRH</td>\n",
       "      <td>NYK</td>\n",
       "      <td>66</td>\n",
       "      <td>68</td>\n",
       "      <td>-731116800000000000</td>\n",
       "    </tr>\n",
       "    <tr>\n",
       "      <th>1946-11-02</th>\n",
       "      <td>PRO</td>\n",
       "      <td>BOS</td>\n",
       "      <td>59</td>\n",
       "      <td>53</td>\n",
       "      <td>-731030400000000000</td>\n",
       "    </tr>\n",
       "    <tr>\n",
       "      <th>1946-11-02</th>\n",
       "      <td>STB</td>\n",
       "      <td>PIT</td>\n",
       "      <td>56</td>\n",
       "      <td>51</td>\n",
       "      <td>-731030400000000000</td>\n",
       "    </tr>\n",
       "    <tr>\n",
       "      <th>1946-11-02</th>\n",
       "      <td>CHS</td>\n",
       "      <td>NYK</td>\n",
       "      <td>63</td>\n",
       "      <td>47</td>\n",
       "      <td>-731030400000000000</td>\n",
       "    </tr>\n",
       "    <tr>\n",
       "      <th>1946-11-02</th>\n",
       "      <td>DTF</td>\n",
       "      <td>WSC</td>\n",
       "      <td>33</td>\n",
       "      <td>50</td>\n",
       "      <td>-731030400000000000</td>\n",
       "    </tr>\n",
       "  </tbody>\n",
       "</table>\n",
       "</div>"
      ],
      "text/plain": [
       "           team1 team2  score1  score2                   t\n",
       "date                                                      \n",
       "1946-11-01   TRH   NYK      66      68 -731116800000000000\n",
       "1946-11-02   PRO   BOS      59      53 -731030400000000000\n",
       "1946-11-02   STB   PIT      56      51 -731030400000000000\n",
       "1946-11-02   CHS   NYK      63      47 -731030400000000000\n",
       "1946-11-02   DTF   WSC      33      50 -731030400000000000"
      ]
     },
     "execution_count": 3,
     "metadata": {},
     "output_type": "execute_result"
    }
   ],
   "source": [
    "df = pd.read_csv(\n",
    "    './data/nba_elo.csv',\n",
    "    usecols=['date', 'team1', 'team2', 'score1', 'score2'],\n",
    "    dtype={'team1': 'category', 'team2': 'category'},\n",
    "    parse_dates=['date'],\n",
    ").sort_index()\n",
    "# There are some duplicates here (with respect to date/team1/team2)\n",
    "df = df.drop_duplicates(subset=['date', 'team1', 'team2'], keep='first').set_index('date')\n",
    "df['t'] = df.index.astype(int)  # Convert to Unix timestamp\n",
    "print(f'We have {df.shape[0]:,} matches.')\n",
    "df.head()"
   ]
  },
  {
   "cell_type": "markdown",
   "metadata": {},
   "source": [
    "Quick check for nulls."
   ]
  },
  {
   "cell_type": "code",
   "execution_count": 4,
   "metadata": {},
   "outputs": [
    {
     "data": {
      "text/plain": [
       "team1     0\n",
       "team2     0\n",
       "score1    0\n",
       "score2    0\n",
       "t         0\n",
       "dtype: int64"
      ]
     },
     "execution_count": 4,
     "metadata": {},
     "output_type": "execute_result"
    }
   ],
   "source": [
    "df.isnull().sum()"
   ]
  },
  {
   "cell_type": "markdown",
   "metadata": {},
   "source": [
    "Assign a *result* field, based on the score."
   ]
  },
  {
   "cell_type": "code",
   "execution_count": 5,
   "metadata": {},
   "outputs": [
    {
     "data": {
      "text/html": [
       "<div>\n",
       "<style scoped>\n",
       "    .dataframe tbody tr th:only-of-type {\n",
       "        vertical-align: middle;\n",
       "    }\n",
       "\n",
       "    .dataframe tbody tr th {\n",
       "        vertical-align: top;\n",
       "    }\n",
       "\n",
       "    .dataframe thead th {\n",
       "        text-align: right;\n",
       "    }\n",
       "</style>\n",
       "<table border=\"1\" class=\"dataframe\">\n",
       "  <thead>\n",
       "    <tr style=\"text-align: right;\">\n",
       "      <th></th>\n",
       "      <th>team1</th>\n",
       "      <th>team2</th>\n",
       "      <th>score1</th>\n",
       "      <th>score2</th>\n",
       "      <th>t</th>\n",
       "      <th>result</th>\n",
       "    </tr>\n",
       "    <tr>\n",
       "      <th>date</th>\n",
       "      <th></th>\n",
       "      <th></th>\n",
       "      <th></th>\n",
       "      <th></th>\n",
       "      <th></th>\n",
       "      <th></th>\n",
       "    </tr>\n",
       "  </thead>\n",
       "  <tbody>\n",
       "    <tr>\n",
       "      <th>1946-11-01</th>\n",
       "      <td>TRH</td>\n",
       "      <td>NYK</td>\n",
       "      <td>66</td>\n",
       "      <td>68</td>\n",
       "      <td>-731116800000000000</td>\n",
       "      <td>0</td>\n",
       "    </tr>\n",
       "    <tr>\n",
       "      <th>1946-11-02</th>\n",
       "      <td>PRO</td>\n",
       "      <td>BOS</td>\n",
       "      <td>59</td>\n",
       "      <td>53</td>\n",
       "      <td>-731030400000000000</td>\n",
       "      <td>1</td>\n",
       "    </tr>\n",
       "    <tr>\n",
       "      <th>1946-11-02</th>\n",
       "      <td>STB</td>\n",
       "      <td>PIT</td>\n",
       "      <td>56</td>\n",
       "      <td>51</td>\n",
       "      <td>-731030400000000000</td>\n",
       "      <td>1</td>\n",
       "    </tr>\n",
       "    <tr>\n",
       "      <th>1946-11-02</th>\n",
       "      <td>CHS</td>\n",
       "      <td>NYK</td>\n",
       "      <td>63</td>\n",
       "      <td>47</td>\n",
       "      <td>-731030400000000000</td>\n",
       "      <td>1</td>\n",
       "    </tr>\n",
       "    <tr>\n",
       "      <th>1946-11-02</th>\n",
       "      <td>DTF</td>\n",
       "      <td>WSC</td>\n",
       "      <td>33</td>\n",
       "      <td>50</td>\n",
       "      <td>-731030400000000000</td>\n",
       "      <td>0</td>\n",
       "    </tr>\n",
       "  </tbody>\n",
       "</table>\n",
       "</div>"
      ],
      "text/plain": [
       "           team1 team2  score1  score2                   t  result\n",
       "date                                                              \n",
       "1946-11-01   TRH   NYK      66      68 -731116800000000000       0\n",
       "1946-11-02   PRO   BOS      59      53 -731030400000000000       1\n",
       "1946-11-02   STB   PIT      56      51 -731030400000000000       1\n",
       "1946-11-02   CHS   NYK      63      47 -731030400000000000       1\n",
       "1946-11-02   DTF   WSC      33      50 -731030400000000000       0"
      ]
     },
     "execution_count": 5,
     "metadata": {},
     "output_type": "execute_result"
    }
   ],
   "source": [
    "df['result'] = (df['score1'] > df['score2']).astype(int)\n",
    "df.head()"
   ]
  },
  {
   "cell_type": "markdown",
   "metadata": {},
   "source": [
    "## Train/val split"
   ]
  },
  {
   "cell_type": "markdown",
   "metadata": {},
   "source": [
    "Split data into training and validation sets.\n",
    "We later use the training data for setting model hyper-parameters."
   ]
  },
  {
   "cell_type": "code",
   "execution_count": 6,
   "metadata": {},
   "outputs": [],
   "source": [
    "split_date = datetime.date(2022, 1, 1)\n",
    "\n",
    "cols = ['team1', 'team2', 'result', 't']\n",
    "\n",
    "X_train, X_val = df.loc[:split_date, cols].set_index('t'), df.loc[split_date:, cols].set_index('t')\n",
    "X_train['t'] = X_train.index\n",
    "X_val['t'] = X_val.index"
   ]
  },
  {
   "cell_type": "markdown",
   "metadata": {},
   "source": [
    "## Benchmark"
   ]
  },
  {
   "cell_type": "markdown",
   "metadata": {},
   "source": [
    "Let's do a performance benchmark."
   ]
  },
  {
   "cell_type": "code",
   "execution_count": 7,
   "metadata": {},
   "outputs": [
    {
     "name": "stdout",
     "output_type": "stream",
     "text": [
      "356 ms ± 50.4 ms per loop (mean ± std. dev. of 7 runs, 20 loops each)\n"
     ]
    }
   ],
   "source": [
    "%%timeit -n 20\n",
    "elo = EloEstimator(entity_cols=('team1', 'team2'), score_col='result', beta=200, k_factor=20, default_init_rating=1500)\n",
    "\n",
    "elo.fit(X_train)"
   ]
  },
  {
   "cell_type": "markdown",
   "metadata": {},
   "source": [
    "## Get predictions/ratings"
   ]
  },
  {
   "cell_type": "markdown",
   "metadata": {},
   "source": [
    "Use the `transform` method to calculate expected scores/ratings."
   ]
  },
  {
   "cell_type": "code",
   "execution_count": 8,
   "metadata": {},
   "outputs": [
    {
     "data": {
      "text/plain": [
       "[('NYA', (200880000000000000, 1752.0559323398625)),\n",
       " ('PHO', (1640995200000000000, 1724.2373346063296)),\n",
       " ('DNA', (200880000000000000, 1721.998076830764)),\n",
       " ('SAA', (199238400000000000, 1697.53730433188)),\n",
       " ('UTA', (1640995200000000000, 1682.0141963706546)),\n",
       " ('GSW', (1640995200000000000, 1678.9729618061392)),\n",
       " ('MIL', (1640995200000000000, 1673.7471552660552)),\n",
       " ('PHW', (-244166400000000000, 1668.484710295501)),\n",
       " ('KEN', (199584000000000000, 1657.4588446037305)),\n",
       " ('OAK', (-6825600000000000, 1656.4269126889053))]"
      ]
     },
     "execution_count": 8,
     "metadata": {},
     "output_type": "execute_result"
    }
   ],
   "source": [
    "elo = EloEstimator(entity_cols=('team1', 'team2'), score_col='result', beta=200, k_factor=20, default_init_rating=1500)\n",
    "\n",
    "preds = elo.fit(X_train)\n",
    "sorted(elo.model.ratings.items(), key=lambda item: item[1][1], reverse=True)[:10]"
   ]
  },
  {
   "cell_type": "markdown",
   "metadata": {},
   "source": [
    "## Evaluate the predictions"
   ]
  },
  {
   "cell_type": "code",
   "execution_count": 9,
   "metadata": {},
   "outputs": [
    {
     "name": "stdout",
     "output_type": "stream",
     "text": [
      "Validation set log-loss: 0.6576\n"
     ]
    }
   ],
   "source": [
    "y_val_pred = elo.predict_proba(X_val)[:, 1]\n",
    "print(f\"Validation set log-loss: {log_loss(X_val['result'], y_val_pred):.4f}\")"
   ]
  },
  {
   "cell_type": "markdown",
   "metadata": {},
   "source": [
    "Check the calibration."
   ]
  },
  {
   "cell_type": "code",
   "execution_count": 10,
   "metadata": {},
   "outputs": [
    {
     "data": {
      "image/png": "[encoded data removed]",
      "text/plain": [
       "<Figure size 1000x800 with 1 Axes>"
      ]
     },
     "metadata": {},
     "output_type": "display_data"
    }
   ],
   "source": [
    "prob_true, prob_pred = calibration_curve(X_val['result'], y_val_pred, n_bins=20, strategy='quantile')\n",
    "\n",
    "fig, ax = plt.subplots(figsize=(10, 8))\n",
    "\n",
    "ax.plot(prob_pred, prob_true)\n",
    "ax.plot([0, 1], [0, 1], color='black', linestyle='--')\n",
    "ax.set(\n",
    "    title='Elo Calibration Curve',\n",
    "    xlabel='Mean predicted probability',\n",
    "    ylabel='Fraction of positives',\n",
    ")\n",
    "\n",
    "plt.show()"
   ]
  },
  {
   "cell_type": "markdown",
   "metadata": {},
   "source": [
    "## Grid search"
   ]
  },
  {
   "cell_type": "markdown",
   "metadata": {},
   "source": [
    "As our estimator is `scikit-learn` compatible, we can use `scikit-learn` to do things like perform a grid search over hyper-parameters."
   ]
  },
  {
   "cell_type": "code",
   "execution_count": 11,
   "metadata": {},
   "outputs": [
    {
     "name": "stderr",
     "output_type": "stream",
     "text": [
      "/home/mike/PycharmProjects/elo-grad/.venv/lib/python3.10/site-packages/numpy/ma/core.py:2881: RuntimeWarning: invalid value encountered in cast\n",
      "  _data = np.array(data, dtype=dtype, copy=copy,\n"
     ]
    },
    {
     "data": {
      "text/html": [
       "<div>\n",
       "<style scoped>\n",
       "    .dataframe tbody tr th:only-of-type {\n",
       "        vertical-align: middle;\n",
       "    }\n",
       "\n",
       "    .dataframe tbody tr th {\n",
       "        vertical-align: top;\n",
       "    }\n",
       "\n",
       "    .dataframe thead th {\n",
       "        text-align: right;\n",
       "    }\n",
       "</style>\n",
       "<table border=\"1\" class=\"dataframe\">\n",
       "  <thead>\n",
       "    <tr style=\"text-align: right;\">\n",
       "      <th></th>\n",
       "      <th>mean_fit_time</th>\n",
       "      <th>std_fit_time</th>\n",
       "      <th>mean_score_time</th>\n",
       "      <th>std_score_time</th>\n",
       "      <th>param_beta</th>\n",
       "      <th>param_k_factor</th>\n",
       "      <th>params</th>\n",
       "      <th>split0_test_score</th>\n",
       "      <th>split1_test_score</th>\n",
       "      <th>split2_test_score</th>\n",
       "      <th>mean_test_score</th>\n",
       "      <th>std_test_score</th>\n",
       "      <th>rank_test_score</th>\n",
       "    </tr>\n",
       "  </thead>\n",
       "  <tbody>\n",
       "    <tr>\n",
       "      <th>0</th>\n",
       "      <td>0.205885</td>\n",
       "      <td>0.042390</td>\n",
       "      <td>0.112279</td>\n",
       "      <td>0.009357</td>\n",
       "      <td>200</td>\n",
       "      <td>10</td>\n",
       "      <td>{'beta': 200, 'k_factor': 10}</td>\n",
       "      <td>0.639669</td>\n",
       "      <td>0.629059</td>\n",
       "      <td>0.630959</td>\n",
       "      <td>0.633229</td>\n",
       "      <td>0.004619</td>\n",
       "      <td>1</td>\n",
       "    </tr>\n",
       "    <tr>\n",
       "      <th>1</th>\n",
       "      <td>0.168703</td>\n",
       "      <td>0.085963</td>\n",
       "      <td>0.080984</td>\n",
       "      <td>0.000970</td>\n",
       "      <td>200</td>\n",
       "      <td>100</td>\n",
       "      <td>{'beta': 200, 'k_factor': 100}</td>\n",
       "      <td>0.639669</td>\n",
       "      <td>0.629059</td>\n",
       "      <td>0.630959</td>\n",
       "      <td>0.633229</td>\n",
       "      <td>0.004619</td>\n",
       "      <td>1</td>\n",
       "    </tr>\n",
       "  </tbody>\n",
       "</table>\n",
       "</div>"
      ],
      "text/plain": [
       "   mean_fit_time  std_fit_time  mean_score_time  std_score_time  param_beta  \\\n",
       "0       0.205885      0.042390         0.112279        0.009357         200   \n",
       "1       0.168703      0.085963         0.080984        0.000970         200   \n",
       "\n",
       "   param_k_factor                          params  split0_test_score  \\\n",
       "0              10   {'beta': 200, 'k_factor': 10}           0.639669   \n",
       "1             100  {'beta': 200, 'k_factor': 100}           0.639669   \n",
       "\n",
       "   split1_test_score  split2_test_score  mean_test_score  std_test_score  \\\n",
       "0           0.629059           0.630959         0.633229        0.004619   \n",
       "1           0.629059           0.630959         0.633229        0.004619   \n",
       "\n",
       "   rank_test_score  \n",
       "0                1  \n",
       "1                1  "
      ]
     },
     "execution_count": 11,
     "metadata": {},
     "output_type": "execute_result"
    }
   ],
   "source": [
    "gs = GridSearchCV(\n",
    "    estimator=EloEstimator(entity_cols=('team1', 'team2'), score_col='result'), \n",
    "    param_grid={\n",
    "        'beta': [200],\n",
    "        'k_factor': [10, 100],\n",
    "    },\n",
    "    cv=TimeSeriesSplit(n_splits=3),\n",
    ")\n",
    "gs.fit(X_train, X_train['result'])\n",
    "pd.DataFrame(gs.cv_results_).sort_values('mean_test_score')"
   ]
  }
 ],
 "metadata": {
  "kernelspec": {
   "display_name": ".venv",
   "language": "python",
   "name": "python3"
  },
  "language_info": {
   "codemirror_mode": {
    "name": "ipython",
    "version": 3
   },
   "file_extension": ".py",
   "mimetype": "text/x-python",
   "name": "python",
   "nbconvert_exporter": "python",
   "pygments_lexer": "ipython3",
   "version": "3.10.11"
  }
 },
 "nbformat": 4,
 "nbformat_minor": 2
}
